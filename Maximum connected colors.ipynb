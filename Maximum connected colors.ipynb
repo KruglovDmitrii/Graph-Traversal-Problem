{
 "cells": [
  {
   "cell_type": "markdown",
   "metadata": {},
   "source": [
    "# Find the maximum of number of connected colors\n",
    "## Introduction\n",
    "In this notebook I am solving a following problem: given a grid of tiles colored in three colors, find the maximum number of connected tiles of matching color.\n",
    "<img src=\"5x5.png\" style=\"height:150px\"> <img src=\"5x5_a.png\" style=\"height:150px\">"
   ]
  },
  {
   "cell_type": "markdown",
   "metadata": {},
   "source": [
    "## Solving using Python\n",
    "### Image generation\n",
    "First let's write a little code to initialize a random example."
   ]
  },
  {
   "cell_type": "code",
   "execution_count": 32,
   "metadata": {},
   "outputs": [
    {
     "data": {
      "image/png": "[encoded data removed]",
      "text/plain": [
       "<Figure size 432x288 with 1 Axes>"
      ]
     },
     "metadata": {
      "needs_background": "light"
     },
     "output_type": "display_data"
    }
   ],
   "source": [
    "import numpy as np\n",
    "import matplotlib.pyplot as plt\n",
    "import random\n",
    "import collections\n",
    "\n",
    "image_size = 1000\n",
    "image = np.zeros((image_size,image_size,3), 'uint8')\n",
    "\n",
    "tiles_x = 18 # number of tiles along x\n",
    "tiles_y = 12 # number tiles along y\n",
    "num_of_colors = 3 # number of different colors (up to three)\n",
    "ppt_x = image_size//tiles_x # pixels per tile along x\n",
    "ppt_y = image_size//tiles_y # pixels per tile along y\n",
    "color_matrix = np.random.randint(num_of_colors, \n",
    "                         size = (tiles_y,tiles_x)) # [0,1,2] are [r,g,b]\n",
    "\n",
    "for i in range(tiles_x): # create a picture\n",
    "    for j in range(tiles_y):\n",
    "        # tiles\n",
    "        image[(j*ppt_y):(j*ppt_y+ppt_y),\n",
    "              (i*ppt_x):(i*ppt_x+ppt_x),\n",
    "              color_matrix[j,i]] = 255\n",
    "        # borders\n",
    "        image[:,(i*ppt_x-3):(i*ppt_x+3),:]=0\n",
    "        image[(j*ppt_y-3):(j*ppt_y+3),:,:]=0\n",
    "        \n",
    "plt.imshow(image, extent=(0.5, tiles_x + .5 , tiles_y + .5, 0.5, ))\n",
    "plt.title('Our image')\n",
    "plt.show()"
   ]
  },
  {
   "cell_type": "markdown",
   "metadata": {},
   "source": [
    "## Using graph traversal\n",
    "Let us consider the color matrix of our image, i.e. a matrix where the tiles of different colors are representesd as integers: $0,1,2$ for red, green and blue correspondingly. For now I will use the color matrix that was created during the image generation, but hopefully some time later I will write code for breaking images down into tiles and building color matrices based on it. Here is how the color matrix for the example above looks like."
   ]
  },
  {
   "cell_type": "code",
   "execution_count": 33,
   "metadata": {},
   "outputs": [
    {
     "name": "stdout",
     "output_type": "stream",
     "text": [
      "[[0 1 1 1 1 1 1 1 1 0 0 1 1 0 2 2 2 0]\n",
      " [2 0 1 1 2 1 1 2 2 2 2 1 2 1 0 0 2 0]\n",
      " [2 2 1 1 0 1 0 2 1 2 0 2 2 0 1 0 2 2]\n",
      " [0 1 1 1 0 2 0 1 0 1 2 1 1 2 2 1 0 0]\n",
      " [2 2 2 2 2 2 0 1 2 0 2 0 2 0 0 1 2 0]\n",
      " [2 1 0 2 2 2 1 2 2 0 1 2 1 2 1 1 1 1]\n",
      " [2 1 2 2 2 1 2 2 1 1 2 0 1 1 0 1 0 0]\n",
      " [2 1 2 2 2 0 1 1 1 1 2 1 0 0 2 0 0 0]\n",
      " [2 1 2 1 1 1 2 2 2 0 1 0 0 1 1 2 0 2]\n",
      " [0 2 2 1 1 2 2 2 0 0 0 0 0 2 1 1 2 2]\n",
      " [2 0 0 2 2 2 2 0 2 1 1 1 0 1 1 0 0 1]\n",
      " [2 1 2 2 1 1 2 2 1 1 2 1 2 1 0 1 0 0]]\n"
     ]
    }
   ],
   "source": [
    "print(color_matrix)"
   ]
  },
  {
   "cell_type": "markdown",
   "metadata": {},
   "source": [
    "To solve this problem we start at some tile and look for matching integers (i.e. color) in the neighboring matrix elements, we then jump to each one of those tiles and repeat the process until we walk through the whole chain. Each same-colored chain of tiles is a graph, and a process of walking through every node of a graph is called graph traversal. While traversing a graph we find its length, doing that for each chain will help us find the longest one."
   ]
  },
  {
   "cell_type": "code",
   "execution_count": 34,
   "metadata": {},
   "outputs": [],
   "source": [
    "def checkNeighbours(matrix,i,j): # Check the neighbouring  matrix elements, return whether they are \n",
    "    ans = {0:(False,(0,0)),      # match/no-match and the corresponding point's coordinates\n",
    "           1:(False,(0,0)), \n",
    "           2:(False,(0,0)), \n",
    "           3:(False,(0,0))} \n",
    "    if (matrix[i,j+1] == matrix[i,j]): # look right\n",
    "        ans[0] = True, (i,(j+1))\n",
    "    if (matrix[i+1,j] == matrix[i,j]): # look down\n",
    "        ans[1] = True, ((i+1),j)\n",
    "    if (matrix[i,j-1] == matrix[i,j]): # look down\n",
    "        ans[2] = True, (i,(j-1))\n",
    "    if (matrix[i-1,j] == matrix[i,j]): # look left\n",
    "        ans[3] = True, ((i-1),j)\n",
    "    return ans\n",
    "\n",
    "def matrix_bfs(matrix,    # choose matrix and the initial coordinate.\n",
    "               position): \n",
    "    visited = set()              \n",
    "    visited.add(position)                 # a set of coordinates we've walked through\n",
    "    queue = collections.deque([position]) # a set of coordinates waiting to be travelled trhough\n",
    "    while queue:\n",
    "        position = queue.popleft()                    # take first coordinates to walkthrough\n",
    "        neighbourhood = checkNeighbours(matrix,       # check the neighbouring elements\n",
    "                                        position[0],\n",
    "                                        position[1])\n",
    "        for neighbour in neighbourhood.values():      # look at the result of the check\n",
    "            if neighbour[1] not in visited:           # if we haven't visited this neighbour AND\n",
    "                if neighbour[0] == True:              # if neighbour element carry the same value\n",
    "                    visited.add(neighbour[1])         # add it to the set of visited positions\n",
    "                    queue.append(neighbour[1])        # add it to the queue\n",
    "    return visited"
   ]
  },
  {
   "cell_type": "code",
   "execution_count": 35,
   "metadata": {},
   "outputs": [
    {
     "name": "stdout",
     "output_type": "stream",
     "text": [
      "[[0 1 1 1 1 1 1 1 1 0 0 1 1 0 2 2 2 0]\n",
      " [2 0 1 1 2 1 1 2 2 2 2 1 2 1 0 0 2 0]\n",
      " [2 2 1 1 0 1 0 2 1 2 0 2 2 0 1 0 2 2]\n",
      " [0 1 1 1 0 2 0 1 0 1 2 1 1 2 2 1 0 0]\n",
      " [2 2 2 2 2 2 0 1 2 0 2 0 2 0 0 1 2 0]\n",
      " [2 1 0 2 2 2 1 2 2 0 1 2 1 2 1 1 1 1]\n",
      " [2 1 2 2 2 1 2 2 1 1 2 0 1 1 0 1 0 0]\n",
      " [2 1 2 2 2 0 1 1 1 1 2 1 0 0 2 0 0 0]\n",
      " [2 1 2 1 1 1 2 2 2 0 1 0 0 1 1 2 0 2]\n",
      " [0 2 2 1 1 2 2 2 0 0 0 0 0 2 1 1 2 2]\n",
      " [2 0 0 2 2 2 2 0 2 1 1 1 0 1 1 0 0 1]\n",
      " [2 1 2 2 1 1 2 2 1 1 2 1 2 1 0 1 0 0]]\n",
      "\n",
      " \n",
      "\n",
      "[[99 99 99 99 99 99 99 99 99 99 99 99 99 99 99 99 99 99 99 99]\n",
      " [99  0  1  1  1  1  1  1  1  1  0  0  1  1  0  2  2  2  0 99]\n",
      " [99  2  0  1  1  2  1  1  2  2  2  2  1  2  1  0  0  2  0 99]\n",
      " [99  2  2  1  1  0  1  0  2  1  2  0  2  2  0  1  0  2  2 99]\n",
      " [99  0  1  1  1  0  2  0  1  0  1  2  1  1  2  2  1  0  0 99]\n",
      " [99  2  2  2  2  2  2  0  1  2  0  2  0  2  0  0  1  2  0 99]\n",
      " [99  2  1  0  2  2  2  1  2  2  0  1  2  1  2  1  1  1  1 99]\n",
      " [99  2  1  2  2  2  1  2  2  1  1  2  0  1  1  0  1  0  0 99]\n",
      " [99  2  1  2  2  2  0  1  1  1  1  2  1  0  0  2  0  0  0 99]\n",
      " [99  2  1  2  1  1  1  2  2  2  0  1  0  0  1  1  2  0  2 99]\n",
      " [99  0  2  2  1  1  2  2  2  0  0  0  0  0  2  1  1  2  2 99]\n",
      " [99  2  0  0  2  2  2  2  0  2  1  1  1  0  1  1  0  0  1 99]\n",
      " [99  2  1  2  2  1  1  2  2  1  1  2  1  2  1  0  1  0  0 99]\n",
      " [99 99 99 99 99 99 99 99 99 99 99 99 99 99 99 99 99 99 99 99]]\n"
     ]
    }
   ],
   "source": [
    "def add_frame(matrix):\n",
    "    res = np.copy(matrix)\n",
    "    res = np.append(99*np.ones((1,res.shape[1]),dtype='int'),res, axis=0)\n",
    "    res = np.append(res,99*np.ones((1,res.shape[1]),dtype='int'), axis=0)\n",
    "    res = np.append(99*np.ones((res.shape[0],1),dtype='int'),res, axis=1)\n",
    "    res = np.append(res,99*np.ones((res.shape[0],1),dtype='int'), axis=1)\n",
    "    return res\n",
    "\n",
    "print(color_matrix)\n",
    "print('\\n \\n')\n",
    "framed_color_matrix=add_frame(color_matrix)\n",
    "print(framed_color_matrix) # we added frames so that there's no error trying \n",
    "                           # to go beyond the matrix indeces"
   ]
  },
  {
   "cell_type": "markdown",
   "metadata": {},
   "source": [
    "The last step is to do graph traversal for all pairs of indices crossing out the ones we already wakled through."
   ]
  },
  {
   "cell_type": "code",
   "execution_count": 38,
   "metadata": {},
   "outputs": [
    {
     "name": "stdout",
     "output_type": "stream",
     "text": [
      "Here are the indices of a longest connected chain of same-colored tiles:\n",
      "{(7, 3), (9, 1), (6, 6), (5, 6), (5, 1), (8, 5), (10, 3), (5, 5), (8, 1), (10, 2), (6, 4), (5, 4), (7, 1), (9, 3), (7, 5), (6, 5), (5, 3), (8, 3), (4, 6), (6, 1), (7, 4), (5, 2), (8, 4)}\n",
      "It is 23 tiles long\n"
     ]
    },
    {
     "data": {
      "image/png": "[encoded data removed]",
      "text/plain": [
       "<Figure size 432x288 with 1 Axes>"
      ]
     },
     "metadata": {
      "needs_background": "light"
     },
     "output_type": "display_data"
    }
   ],
   "source": [
    "import itertools\n",
    "possible_i = list(range(1,framed_color_matrix.shape[0]-1))\n",
    "possible_j = list(range(1,framed_color_matrix.shape[1]-1))\n",
    "all_possible_ij = list(itertools.product(possible_i,\n",
    "                                         possible_j)) # all possible combinations of i and j indices\n",
    "\n",
    "longest_chain = set()                               # Here is where the actual search for the longest\n",
    "for ij in all_possible_ij:                          # chain is happening\n",
    "    visited_ij = matrix_bfs(framed_color_matrix,ij)\n",
    "    if len(visited_ij)>len(longest_chain):\n",
    "        longest_chain = visited_ij\n",
    "    for indices in visited_ij:\n",
    "        all_possible_ij.remove(indices)\n",
    "        \n",
    "print(\"Here are the indices of a longest connected chain of same-colored tiles:\\n{}\"\n",
    "      .format(longest_chain))\n",
    "print(\"It is {} tiles long\".format(len(longest_chain)))\n",
    "\n",
    "image_copy = np.copy(image)\n",
    "for ij in longest_chain:\n",
    "    image_copy[(ij[0]-1)*ppt_y+ppt_y//2-ppt_y//5:(ij[0]-1)*ppt_y+ppt_y//2+ppt_y//5,\n",
    "               (ij[1]-1)*ppt_x+ppt_x//2-ppt_x//5:(ij[1]-1)*ppt_x+ppt_x//2+ppt_x//5,\n",
    "               :] = 0\n",
    "\n",
    "plt.imshow(image_copy, extent=(0.5, tiles_x + .5 , tiles_y + .5, 0.5, ))\n",
    "plt.title('Our image')\n",
    "plt.show() # Done!"
   ]
  },
  {
   "cell_type": "markdown",
   "metadata": {},
   "source": [
    "### That's it!"
   ]
  },
  {
   "cell_type": "code",
   "execution_count": null,
   "metadata": {},
   "outputs": [],
   "source": []
  }
 ],
 "metadata": {
  "kernelspec": {
   "display_name": "Python 3.7 (tensorflow)",
   "language": "python",
   "name": "tensorflow_env"
  },
  "language_info": {
   "codemirror_mode": {
    "name": "ipython",
    "version": 3
   },
   "file_extension": ".py",
   "mimetype": "text/x-python",
   "name": "python",
   "nbconvert_exporter": "python",
   "pygments_lexer": "ipython3",
   "version": "3.7.2"
  }
 },
 "nbformat": 4,
 "nbformat_minor": 2
}
